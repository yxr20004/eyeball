{
 "cells": [
  {
   "cell_type": "code",
   "execution_count": 1,
   "metadata": {
    "collapsed": true
   },
   "outputs": [],
   "source": [
    "from urllib import request, parse\n",
    "import json\n"
   ]
  },
  {
   "cell_type": "code",
   "execution_count": 4,
   "metadata": {},
   "outputs": [
    {
     "name": "stdout",
     "output_type": "stream",
     "text": [
      "[264, 138, 288, 396]\n",
      "[339.86859130859375, 292.34722900390625, 13.08664321899414, 473.1956481933594, 284.3647155761719, 13.08664321899414]\n",
      "[436.9414978027344, 267.47210693359375, 528.3438720703125, 277.82916259765625, 485.4898681640625, 251.44989013671875, 484.1127014160156, 264.39276123046875, 449.8310852050781, 255.11053466796875, 467.44915771484375, 251.37530517578125, 503.3273620605469, 253.72354125976562, 519.1004028320312, 262.32550048828125, 452.6379699707031, 265.96331787109375, 468.34564208984375, 264.62335205078125, 499.787353515625, 264.93707275390625, 514.7072143554688, 269.9110107421875, 313.7864990234375, 300.05560302734375, 367.8902587890625, 297.6664733886719, 318.89508056640625, 293.9908142089844, 325.5054931640625, 289.61517333984375]\n"
     ]
    }
   ],
   "source": [
    "def loadJson(name):\n",
    "    f = open(name, encoding='utf-8-sig')        \n",
    "    data = json.load(f)\n",
    "    face_rect = data['face_rect']\n",
    "    iris = data['iris']\n",
    "    landmark = data['landmark']\n",
    "    print(face_rect)\n",
    "    print(iris)\n",
    "    print(landmark[24:56])\n",
    "    return data\n",
    "\n",
    "str_json = loadJson('../data/images/001.jpg.json')\n",
    "\n",
    "# print(str_json)"
   ]
  },
  {
   "cell_type": "code",
   "execution_count": null,
   "metadata": {},
   "outputs": [],
   "source": []
  },
  {
   "cell_type": "code",
   "execution_count": null,
   "metadata": {
    "collapsed": true
   },
   "outputs": [],
   "source": []
  }
 ],
 "metadata": {
  "kernelspec": {
   "display_name": "Python 3",
   "language": "python",
   "name": "python3"
  },
  "language_info": {
   "codemirror_mode": {
    "name": "ipython",
    "version": 3
   },
   "file_extension": ".py",
   "mimetype": "text/x-python",
   "name": "python",
   "nbconvert_exporter": "python",
   "pygments_lexer": "ipython3",
   "version": "3.6.3"
  }
 },
 "nbformat": 4,
 "nbformat_minor": 2
}
