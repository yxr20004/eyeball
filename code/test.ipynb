{
 "cells": [
  {
   "cell_type": "code",
   "execution_count": 1,
   "metadata": {
    "collapsed": true
   },
   "outputs": [],
   "source": [
    "import numpy as np\n",
    "import time\n",
    "import os\n",
    "import pandas as pd\n",
    "import matplotlib.pyplot as plt\n",
    "\n",
    "import cv2\n",
    "import tensorflow as tf\n",
    "import json\n",
    "from urllib import request, parse\n",
    "\n",
    "from PIL import Image\n",
    "from matplotlib.patches import Ellipse, Circle\n",
    "from sklearn.utils import shuffle\n",
    "from tensorflow.python.platform import gfile\n"
   ]
  },
  {
   "cell_type": "code",
   "execution_count": 2,
   "metadata": {
    "collapsed": true
   },
   "outputs": [],
   "source": [
    "EYE_W = 80\n",
    "EYE_H = 60\n",
    "def getEye4Image(imageFilePath):\n",
    "#     image = Image.open(imageFilePath)\n",
    "    image  = cv2.imread(imageFilePath, cv2.IMREAD_COLOR)\n",
    "    img = cv2.GaussianBlur(image, (5,5), 1.5);\n",
    "    gray = cv2.cvtColor(img, cv2.COLOR_RGB2GRAY)\n",
    "#     img = cv2.cvtColor(np.asarray(image),cv2.COLOR_RGB2BGR)\n",
    "    \n",
    "    g = Image.fromarray(cv2.cvtColor(gray,cv2.COLOR_GRAY2RGB))\n",
    "    faceCascade = cv2.CascadeClassifier('../model/haarcascade_frontalface_default.xml')\n",
    "    faces = faceCascade.detectMultiScale(image, 1.1,2, cv2.CASCADE_SCALE_IMAGE,minSize=(100,100))\n",
    "    \n",
    "    if len(faces) > 0:\n",
    "        size = 0\n",
    "        n = 0\n",
    "        for i in range(len(faces)):\n",
    "            if size < faces[i][2]:\n",
    "                size = faces[i][2]\n",
    "                n = i\n",
    "        fx = faces[n][0]\n",
    "        fy = faces[n][1]\n",
    "        fw = faces[n][2]\n",
    "        fh = faces[n][3]\n",
    "        face = image[fy:fy+fh, fx:fx+fw]\n",
    "        eyeCascade = cv2.CascadeClassifier('../model/haarcascade_lefteye_2splits.xml')\n",
    "        eyes = eyeCascade.detectMultiScale(face, 1.2,2)\n",
    "#         print('eye:',len(eyes))\n",
    "        if len(eyes) > 0:\n",
    "            lr = 1024\n",
    "            for i in range(len(eyes)):\n",
    "                if lr > eyes[i][0]:\n",
    "                    lr = eyes[i][0]\n",
    "                    n = i\n",
    "            w = eyes[n][2]\n",
    "            h = eyes[n][3]\n",
    "            x = fx + eyes[n][0]\n",
    "            y = fy + eyes[n][1] + h/4\n",
    "            h = h*3/4\n",
    "            print(x, y, w, h)\n",
    "#             eye = g.crop((fx+x, fy+y, fx+x+w, fy+y+h))\n",
    "\n",
    "        \n",
    "#         w = w + (zoom[0]-EYE_W)\n",
    "#         x = int(x + w/8) - (zoom[0]-EYE_W)/2\n",
    "#         w = int(w - w/4)\n",
    "#         h = h + (zoom[1]-EYE_H)\n",
    "#         y = int(y + h/4) - (zoom[1]-EYE_H)/2\n",
    "       \n",
    "#         h = int(h/4)\n",
    "#         eye = g.crop((x, y, x+w, y+h))\n",
    "#         eye = eye.resize(zoom,Image.ANTIALIAS)\n",
    "\n",
    "    eyeX = x\n",
    "    eyeY = y\n",
    "    \n",
    "    eyeW = w\n",
    "    eyeH = int(w*3/4.0)\n",
    "    \n",
    "    eyeBox = (eyeX, eyeY, eyeX+eyeW, eyeY+eyeH)\n",
    "\n",
    "    eye = g.crop(eyeBox)\n",
    "    eyeImage = eye.resize((EYE_W,EYE_H),Image.ANTIALIAS)\n",
    "    eyeGray = eyeImage.convert('L')\n",
    "    eyeData = np.array(eyeGray)\n",
    "#     plt.figure(figsize=(6,2))\n",
    "#     ax = plt.subplot(121)\n",
    "#     plt.imshow(eyeImage)\n",
    "#     plt.show()\n",
    "    return eyeData,eyeImage,eyeX,eyeY,eyeW,eyeH\n",
    "\n",
    "def getTestData(eye):\n",
    "    data_list = []\n",
    "    data = eye/255.0\n",
    "    data_list.append(data)\n",
    "    X = np.vstack(data_list)\n",
    "    X = X.reshape(-1, EYE_W*EYE_H, 1)\n",
    "    return X\n",
    "    "
   ]
  },
  {
   "cell_type": "code",
   "execution_count": 3,
   "metadata": {
    "collapsed": true
   },
   "outputs": [],
   "source": [
    "def display(name):\n",
    "    eyeData, eyeImage, eyeX, eyeY, eyeW, eyeH= getEye4Image(name)\n",
    "    xyc = ['RAX','RAY','yellow',\n",
    "          'ROX','ROY','red',\n",
    "          'RBX','RBY','blue',\n",
    "          'RUX','RUY','green',\n",
    "          'RDX','RDY','aqua',\n",
    "          \n",
    "#           'LAX','LAY','yellow',\n",
    "#           'LOX','LOY','red',\n",
    "#           'LBX','LBY','blue',\n",
    "#           'LUX','LUY','green',\n",
    "#           'LDX','LDY','aqua'\n",
    "    ]\n",
    "    eye_label = []\n",
    "    test_list = getTestData(eyeData)\n",
    "    with tf.gfile.FastGFile('../data/eye_17000.pb', 'rb') as f:\n",
    "            graph_def = tf.GraphDef()\n",
    "            graph_def.ParseFromString(f.read())\n",
    "            tf.import_graph_def(graph_def, name='')\n",
    "    with tf.Session() as sess:\n",
    "        out_tensor_name = 'layer/out/p/output:0'\n",
    "        out_data_tensor = sess.graph.get_tensor_by_name(out_tensor_name)\n",
    "        batch_xs = test_list[0:1,...]\n",
    "#         print(batch_xs.shape)\n",
    "        batch_xs = batch_xs.reshape(-1, EYE_W*EYE_H)\n",
    "        data_tensor = sess.run(out_data_tensor,{'input/x:0':batch_xs,'input/k:0':1.0})\n",
    "#         print(data_tensor)\n",
    "    plt.figure(figsize=(6,2))\n",
    "    ax = plt.subplot(121)\n",
    "    plt.imshow(eyeImage)\n",
    "    for i in range(5):\n",
    "        px = data_tensor[0][2*i]*EYE_W/2.0 + EYE_W/2.0 #flag[xyc[i*3]] - eyeX\n",
    "        py = data_tensor[0][2*i+1]*EYE_W/2.0 + EYE_W/2.0 #flag[xyc[i*3+1]] - eyeY\n",
    "        plt.plot(int(px), int(py), '.', label='point', color=xyc[i*3+2])\n",
    "    plt.show()\n",
    "    "
   ]
  },
  {
   "cell_type": "code",
   "execution_count": 4,
   "metadata": {},
   "outputs": [
    {
     "name": "stdout",
     "output_type": "stream",
     "text": [
      "268 214.5 66 49.5\n"
     ]
    },
    {
     "data": {
      "image/png": "[encoded data removed]",
      "text/plain": [
       "<matplotlib.figure.Figure at 0x3635b38>"
      ]
     },
     "metadata": {},
     "output_type": "display_data"
    },
    {
     "name": "stdout",
     "output_type": "stream",
     "text": [
      "100 337.75 115 86.25\n"
     ]
    },
    {
     "data": {
      "image/png": "[encoded data removed]",
      "text/plain": [
       "<matplotlib.figure.Figure at 0xe7ee0b8>"
      ]
     },
     "metadata": {},
     "output_type": "display_data"
    },
    {
     "name": "stdout",
     "output_type": "stream",
     "text": [
      "260 716.75 247 185.25\n"
     ]
    },
    {
     "data": {
      "image/png": "[encoded data removed]",
      "text/plain": [
       "<matplotlib.figure.Figure at 0xec56748>"
      ]
     },
     "metadata": {},
     "output_type": "display_data"
    }
   ],
   "source": [
    "display('../data/003.jpg')\n",
    "display('../data/test.001.jpg')\n",
    "display('../data/test.002.jpg')"
   ]
  },
  {
   "cell_type": "code",
   "execution_count": 20,
   "metadata": {},
   "outputs": [
    {
     "name": "stdout",
     "output_type": "stream",
     "text": [
      "eye: 2\n",
      "268 214.5 66 49.5\n"
     ]
    },
    {
     "data": {
      "image/png": "[encoded data removed]",
      "text/plain": [
       "<matplotlib.figure.Figure at 0x10709668>"
      ]
     },
     "metadata": {},
     "output_type": "display_data"
    }
   ],
   "source": [
    "eyeData, eyeImage, eyeX, eyeY, eyeW, eyeH= getEye4Image('../data/003.jpg')\n",
    "# eyeData, eyeImage, eyeX, eyeY, eyeW, eyeH= getEye4Image('../data/test.001.jpg')"
   ]
  },
  {
   "cell_type": "code",
   "execution_count": 21,
   "metadata": {},
   "outputs": [
    {
     "name": "stdout",
     "output_type": "stream",
     "text": [
      "(1, 1200, 1)\n",
      "[[ 0.12625062  0.4892332   0.45934972  0.4502345   0.87446928  0.45759332\n",
      "   0.46760964  0.31040502  0.47044989  0.54457533]]\n"
     ]
    },
    {
     "data": {
      "image/png": "[encoded data removed]",
      "text/plain": [
       "<matplotlib.figure.Figure at 0x1005ea20>"
      ]
     },
     "metadata": {},
     "output_type": "display_data"
    }
   ],
   "source": [
    "\n",
    "xyc = ['RAX','RAY','yellow',\n",
    "          'ROX','ROY','red',\n",
    "          'RBX','RBY','blue',\n",
    "          'RUX','RUY','green',\n",
    "          'RDX','RDY','aqua',\n",
    "          \n",
    "#           'LAX','LAY','yellow',\n",
    "#           'LOX','LOY','red',\n",
    "#           'LBX','LBY','blue',\n",
    "#           'LUX','LUY','green',\n",
    "#           'LDX','LDY','aqua'\n",
    "    ]\n",
    "eye_label = []\n",
    "\n",
    "test_list = getTestData(eyeData)\n",
    "\n",
    "with tf.gfile.FastGFile('../data/eye_4000.pb', 'rb') as f:\n",
    "        graph_def = tf.GraphDef()\n",
    "        graph_def.ParseFromString(f.read())\n",
    "        tf.import_graph_def(graph_def, name='')\n",
    "with tf.Session() as sess:\n",
    "    out_tensor_name = 'layer/out/p/output:0'\n",
    "    out_data_tensor = sess.graph.get_tensor_by_name(out_tensor_name)\n",
    "    batch_xs = test_list[0:1,...]\n",
    "    print(batch_xs.shape)\n",
    "    batch_xs = batch_xs.reshape(-1, EYE_W*EYE_H)\n",
    "    data_tensor = sess.run(out_data_tensor,{'input/x:0':batch_xs,'input/k:0':1.0})\n",
    "    print(data_tensor)\n",
    "plt.figure(figsize=(6,2))\n",
    "ax = plt.subplot(121)\n",
    "plt.imshow(eyeImage)\n",
    "for i in range(5):\n",
    "#     px = data_tensor[0][2*i]\n",
    "#     py = data_tensor[0][2*i+1]\n",
    "#     plt.plot(int(px), int(py), '.', label='point', color=xyc[i*3+2])\n",
    "    \n",
    "    px = data_tensor[0][2*i]*EYE_W #flag[xyc[i*3]] - eyeX\n",
    "    py = data_tensor[0][2*i+1]*EYE_W #flag[xyc[i*3+1]] - eyeY\n",
    "#     px = px*eyeW/EYE_W\n",
    "#     py = py*eyeH/EYE_H\n",
    "    plt.plot(int(px), int(py), '.', label='point', color=xyc[i*3+2])\n",
    "    \n",
    "plt.show()\n",
    "#     for i in range(10):\n",
    "#         predictions = np.squeeze(data_tensor[i])\n",
    "#         top_k = predictions.argsort()[-1:][::-1]\n",
    "#         for node_id in top_k:     \n",
    "#             score = predictions[node_id]\n",
    "#             num_label.append(node_id)"
   ]
  },
  {
   "cell_type": "code",
   "execution_count": 30,
   "metadata": {},
   "outputs": [
    {
     "ename": "ModuleNotFoundError",
     "evalue": "No module named 'Number'",
     "output_type": "error",
     "traceback": [
      "\u001b[1;31m---------------------------------------------------------------------------\u001b[0m",
      "\u001b[1;31mModuleNotFoundError\u001b[0m                       Traceback (most recent call last)",
      "\u001b[1;32m<ipython-input-30-fab4076e2052>\u001b[0m in \u001b[0;36m<module>\u001b[1;34m()\u001b[0m\n\u001b[1;32m----> 1\u001b[1;33m \u001b[1;32mimport\u001b[0m \u001b[0mNumber\u001b[0m \u001b[1;32mas\u001b[0m \u001b[0mnum\u001b[0m\u001b[1;33m\u001b[0m\u001b[0m\n\u001b[0m\u001b[0;32m      2\u001b[0m \u001b[1;32mimport\u001b[0m \u001b[0mtime\u001b[0m\u001b[1;33m\u001b[0m\u001b[0m\n\u001b[0;32m      3\u001b[0m \u001b[1;32mfor\u001b[0m \u001b[0mi\u001b[0m \u001b[1;32min\u001b[0m \u001b[0mrange\u001b[0m\u001b[1;33m(\u001b[0m\u001b[1;36m50\u001b[0m\u001b[1;33m)\u001b[0m\u001b[1;33m:\u001b[0m\u001b[1;33m\u001b[0m\u001b[0m\n\u001b[0;32m      4\u001b[0m     \u001b[0mt1\u001b[0m \u001b[1;33m=\u001b[0m \u001b[0mtime\u001b[0m\u001b[1;33m.\u001b[0m\u001b[0mclock\u001b[0m\u001b[1;33m(\u001b[0m\u001b[1;33m)\u001b[0m\u001b[1;33m\u001b[0m\u001b[0m\n\u001b[0;32m      5\u001b[0m     \u001b[0mn\u001b[0m \u001b[1;33m=\u001b[0m \u001b[0mnum\u001b[0m\u001b[1;33m.\u001b[0m\u001b[0mgetNum\u001b[0m\u001b[1;33m(\u001b[0m\u001b[1;34m'images/00.png'\u001b[0m\u001b[1;33m)\u001b[0m\u001b[1;33m\u001b[0m\u001b[0m\n",
      "\u001b[1;31mModuleNotFoundError\u001b[0m: No module named 'Number'"
     ]
    }
   ],
   "source": [
    "import Number as num\n",
    "import time\n",
    "for i in range(50):\n",
    "    t1 = time.clock()\n",
    "    n = num.getNum('images/00.png')\n",
    "    t2 = time.clock()\n",
    "    print(\"%f\"%((t2-t1)))\n",
    "num.display('images/00.png')\n",
    "\n"
   ]
  },
  {
   "cell_type": "code",
   "execution_count": 1,
   "metadata": {
    "collapsed": true
   },
   "outputs": [],
   "source": [
    "import tensorflow as tf\n",
    "import numpy as np\n",
    "import matplotlib.pyplot as plt\n",
    "import pandas as pd\n",
    "from sklearn.utils import shuffle\n",
    "from tensorflow.python.platform import gfile\n",
    "#from tensorflow.python.framework import graph_util\n",
    "from PIL import Image\n",
    "\n",
    "import time\n",
    "\n",
    "sess = None\n",
    "w = 60#360\n",
    "h = 80#178\n",
    "ws = 150\n",
    "hs = 52\n",
    "box0  = [\n",
    "    [ws,hs+1353, w, h],\n",
    "    [ws,hs+1531, w, h],\n",
    "    [ws,hs+1711, w, h],\n",
    "#     [ws,hs+1888, w, h],\n",
    "    \n",
    "    [ws+361,hs+1353, w, h],\n",
    "    [ws+361,hs+1531, w, h],\n",
    "    [ws+361,hs+1711, w, h],\n",
    "    [ws+361,hs+1888, w, h],\n",
    "    \n",
    "    [ws+721,hs+1353, w, h],\n",
    "    [ws+721,hs+1531, w, h],\n",
    "    [ws+721,hs+1711, w, h],\n",
    "#     [ws+721,hs+1888, w, h],\n",
    "]\n",
    "box  = [\n",
    "    [ws,hs+1408, w, h],\n",
    "    [ws,hs+1597, w, h],\n",
    "    [ws,hs+1784, w, h],\n",
    "#     [ws,hs+1971, w, h],\n",
    "    \n",
    "    [ws+361,hs+1408, w, h],\n",
    "    [ws+361,hs+1597, w, h],\n",
    "    [ws+361,hs+1784, w, h],\n",
    "    [ws+361,hs+1971, w, h],\n",
    "    \n",
    "    [ws+721,hs+1408, w, h],\n",
    "    [ws+721,hs+1597, w, h],\n",
    "    [ws+721,hs+1784, w, h],\n",
    "#     [ws+721,hs+1971, w, h],\n",
    "]"
   ]
  },
  {
   "cell_type": "code",
   "execution_count": 2,
   "metadata": {
    "collapsed": true
   },
   "outputs": [],
   "source": [
    "def get_image(filename):\n",
    "    img = np.array(Image.open(filename).convert('L'),'f')\n",
    "    ss = img.reshape(-1, w*h)\n",
    "    return ss"
   ]
  },
  {
   "cell_type": "code",
   "execution_count": 3,
   "metadata": {
    "collapsed": true
   },
   "outputs": [],
   "source": [
    "def getNumImg(name):\n",
    "    img = Image.open(name)\n",
    "    data_list = []\n",
    "    for i in range(len(box)):\n",
    "        b = (box[i][0], box[i][1], box[i][0]+box[i][2], box[i][1]+box[i][3])\n",
    "        roi = img.crop(b)\n",
    "#         print(type(roi))\n",
    "        roi.save('tmp.png')\n",
    "        d = get_image('tmp.png')\n",
    "        d = d/255.0\n",
    "#         tf.cast(d, tf.float32)\n",
    "        ss = d.reshape(w*h,1)\n",
    "#         image_val = tf.concat(0,ss)\n",
    "        data_list.append(ss)\n",
    "    X = np.vstack(data_list)\n",
    "    X = X.reshape(-1, w*h, 1)\n",
    "    \n",
    "    return X\n",
    "    \n",
    "def display(name):\n",
    "    img = Image.open(name)\n",
    "\n",
    "    box = (0, 1080, 1330, 2160)\n",
    "    roi = img.crop(box)\n",
    "#     sq = img.shape[0]\n",
    "#     print(\"sq:%s %s\" % (sq, img.shape))\n",
    "    \n",
    "#     one_image = img.reshape(int(sq), int(sq))   \n",
    "    plt.axis('off')                         \n",
    "    plt.imshow(roi)\n",
    "    plt.show()\n",
    "    \n",
    "def getNum(fileName):\n",
    "    \n",
    "    test_list = getNumImg(fileName)\n",
    "    name_str = [\n",
    "        '数字0',\n",
    "        '数字1',\n",
    "        '数字2',\n",
    "        '数字3',\n",
    "        '数字4',\n",
    "        '数字5',\n",
    "        '数字6',\n",
    "        '数字7',\n",
    "        '数字8',\n",
    "        '数字9',\n",
    "        ]\n",
    "    num_label = []\n",
    "    with tf.gfile.FastGFile('./num.pb', 'rb') as f:\n",
    "            graph_def = tf.GraphDef()\n",
    "            graph_def.ParseFromString(f.read())\n",
    "            tf.import_graph_def(graph_def, name='')\n",
    "    with tf.Session() as sess:\n",
    "        out_tensor_name = 'layer/out/p/output:0'\n",
    "        out_data_tensor = sess.graph.get_tensor_by_name(out_tensor_name)\n",
    "        batch_xs = test_list[0:10,...]\n",
    "        batch_xs = batch_xs.reshape(-1, w*h)\n",
    "        data_tensor = sess.run(out_data_tensor,{'input/x:0':batch_xs,'input/k:0':1.0})\n",
    "        for i in range(10):\n",
    "            predictions = np.squeeze(data_tensor[i])\n",
    "            top_k = predictions.argsort()[-1:][::-1]\n",
    "            for node_id in top_k:     \n",
    "                score = predictions[node_id]\n",
    "                num_label.append(node_id)\n",
    "        #         print(score)\n",
    "                #print('位置 %s %s (识别概率：%.5f)' % (i,name_str[int(node_id)], score))\n",
    "#             print()\n",
    "    return num_label"
   ]
  },
  {
   "cell_type": "code",
   "execution_count": 5,
   "metadata": {},
   "outputs": [
    {
     "name": "stdout",
     "output_type": "stream",
     "text": [
      "0.143999\n",
      "[5, 9, 0, 1, 7, 3, 2, 6, 8, 4]\n",
      "0.144046\n",
      "[5, 9, 0, 1, 7, 3, 2, 6, 8, 4]\n",
      "0.159934\n",
      "[5, 9, 0, 1, 7, 3, 2, 6, 8, 4]\n",
      "0.168760\n",
      "[5, 9, 0, 1, 7, 3, 2, 6, 8, 4]\n",
      "0.189121\n",
      "[5, 9, 0, 1, 7, 3, 2, 6, 8, 4]\n",
      "0.190269\n",
      "[5, 9, 0, 1, 7, 3, 2, 6, 8, 4]\n",
      "0.247214\n",
      "[5, 9, 0, 1, 7, 3, 2, 6, 8, 4]\n",
      "0.210766\n",
      "[5, 9, 0, 1, 7, 3, 2, 6, 8, 4]\n",
      "0.220305\n",
      "[5, 9, 0, 1, 7, 3, 2, 6, 8, 4]\n",
      "0.230701\n",
      "[5, 9, 0, 1, 7, 3, 2, 6, 8, 4]\n",
      "0.239255\n",
      "[5, 9, 0, 1, 7, 3, 2, 6, 8, 4]\n",
      "0.252198\n",
      "[5, 9, 0, 1, 7, 3, 2, 6, 8, 4]\n",
      "0.262865\n",
      "[5, 9, 0, 1, 7, 3, 2, 6, 8, 4]\n",
      "0.322244\n",
      "[5, 9, 0, 1, 7, 3, 2, 6, 8, 4]\n",
      "0.286396\n",
      "[5, 9, 0, 1, 7, 3, 2, 6, 8, 4]\n",
      "0.289285\n",
      "[5, 9, 0, 1, 7, 3, 2, 6, 8, 4]\n",
      "0.299598\n",
      "[5, 9, 0, 1, 7, 3, 2, 6, 8, 4]\n",
      "0.322056\n",
      "[5, 9, 0, 1, 7, 3, 2, 6, 8, 4]\n",
      "0.391219\n",
      "[5, 9, 0, 1, 7, 3, 2, 6, 8, 4]\n",
      "0.356520\n",
      "[5, 9, 0, 1, 7, 3, 2, 6, 8, 4]\n",
      "0.350637\n",
      "[5, 9, 0, 1, 7, 3, 2, 6, 8, 4]\n",
      "0.369298\n",
      "[5, 9, 0, 1, 7, 3, 2, 6, 8, 4]\n",
      "0.392616\n",
      "[5, 9, 0, 1, 7, 3, 2, 6, 8, 4]\n",
      "0.427320\n",
      "[5, 9, 0, 1, 7, 3, 2, 6, 8, 4]\n",
      "0.395221\n",
      "[5, 9, 0, 1, 7, 3, 2, 6, 8, 4]\n",
      "0.404102\n",
      "[5, 9, 0, 1, 7, 3, 2, 6, 8, 4]\n",
      "0.460872\n",
      "[5, 9, 0, 1, 7, 3, 2, 6, 8, 4]\n",
      "0.419727\n",
      "[5, 9, 0, 1, 7, 3, 2, 6, 8, 4]\n",
      "0.441757\n",
      "[5, 9, 0, 1, 7, 3, 2, 6, 8, 4]\n",
      "0.451774\n",
      "[5, 9, 0, 1, 7, 3, 2, 6, 8, 4]\n",
      "0.513142\n",
      "[5, 9, 0, 1, 7, 3, 2, 6, 8, 4]\n",
      "0.492765\n",
      "[5, 9, 0, 1, 7, 3, 2, 6, 8, 4]\n",
      "0.477887\n",
      "[5, 9, 0, 1, 7, 3, 2, 6, 8, 4]\n",
      "0.557821\n",
      "[5, 9, 0, 1, 7, 3, 2, 6, 8, 4]\n",
      "0.504903\n",
      "[5, 9, 0, 1, 7, 3, 2, 6, 8, 4]\n",
      "0.516614\n",
      "[5, 9, 0, 1, 7, 3, 2, 6, 8, 4]\n",
      "0.574517\n",
      "[5, 9, 0, 1, 7, 3, 2, 6, 8, 4]\n",
      "0.555142\n",
      "[5, 9, 0, 1, 7, 3, 2, 6, 8, 4]\n",
      "0.574823\n",
      "[5, 9, 0, 1, 7, 3, 2, 6, 8, 4]\n",
      "0.621593\n",
      "[5, 9, 0, 1, 7, 3, 2, 6, 8, 4]\n",
      "0.567981\n",
      "[5, 9, 0, 1, 7, 3, 2, 6, 8, 4]\n",
      "0.581275\n",
      "[5, 9, 0, 1, 7, 3, 2, 6, 8, 4]\n",
      "0.640289\n",
      "[5, 9, 0, 1, 7, 3, 2, 6, 8, 4]\n",
      "0.594601\n",
      "[5, 9, 0, 1, 7, 3, 2, 6, 8, 4]\n",
      "0.686073\n",
      "[5, 9, 0, 1, 7, 3, 2, 6, 8, 4]\n",
      "0.630060\n",
      "[5, 9, 0, 1, 7, 3, 2, 6, 8, 4]\n",
      "0.697766\n",
      "[5, 9, 0, 1, 7, 3, 2, 6, 8, 4]\n",
      "0.646419\n",
      "[5, 9, 0, 1, 7, 3, 2, 6, 8, 4]\n",
      "0.657999\n",
      "[5, 9, 0, 1, 7, 3, 2, 6, 8, 4]\n",
      "0.717431\n",
      "[5, 9, 0, 1, 7, 3, 2, 6, 8, 4]\n"
     ]
    },
    {
     "data": {
      "image/png": "[encoded data removed]",
      "text/plain": [
       "<matplotlib.figure.Figure at 0x13d03b00>"
      ]
     },
     "metadata": {},
     "output_type": "display_data"
    }
   ],
   "source": [
    "for i in range(50):\n",
    "    t1 = time.clock()\n",
    "    n = getNum('images/00.png')\n",
    "    t2 = time.clock()\n",
    "    print(\"%f\"%((t2-t1)))\n",
    "    print(n)\n",
    "display('images/00.png')"
   ]
  },
  {
   "cell_type": "code",
   "execution_count": null,
   "metadata": {
    "collapsed": true
   },
   "outputs": [],
   "source": []
  }
 ],
 "metadata": {
  "kernelspec": {
   "display_name": "Python 3",
   "language": "python",
   "name": "python3"
  },
  "language_info": {
   "codemirror_mode": {
    "name": "ipython",
    "version": 3
   },
   "file_extension": ".py",
   "mimetype": "text/x-python",
   "name": "python",
   "nbconvert_exporter": "python",
   "pygments_lexer": "ipython3",
   "version": "3.6.3"
  }
 },
 "nbformat": 4,
 "nbformat_minor": 2
}
